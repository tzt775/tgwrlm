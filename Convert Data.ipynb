{
 "cells": [
  {
   "cell_type": "code",
   "execution_count": 1,
   "metadata": {},
   "outputs": [],
   "source": [
    "import pandas as pd\n",
    "import json\n",
    "\n",
    "PATH = 'Data/'"
   ]
  },
  {
   "cell_type": "code",
   "execution_count": 3,
   "metadata": {},
   "outputs": [],
   "source": [
    "np = open(PATH + 'Nerdy Prudes Must Die [PG3RDdyD_GQ].info.json')\n",
    "bf = open(PATH + 'Black Friday [Bqt4_tHLSB4].info.json')\n",
    "tgw = open(PATH + \"The Guy Who Didn't Like Musicals [IrxKX44qBJ0].info.json\")\n",
    "\n",
    "np = json.load(np)['comments']\n",
    "bf = json.load(bf)['comments']\n",
    "tgw = json.load(tgw)['comments']"
   ]
  },
  {
   "cell_type": "code",
   "execution_count": 4,
   "metadata": {},
   "outputs": [],
   "source": [
    "info = [\"id\", \"parent\", \"text\", \"like_count\", \"author\", \"is_favorited\", \"is_pinned\"]\n",
    "\n",
    "nerdy_prudes = pd.DataFrame(np)[info]\n",
    "black_friday = pd.DataFrame(bf)[info]\n",
    "tgwdlm = pd.DataFrame(tgw)[info]"
   ]
  },
  {
   "cell_type": "code",
   "execution_count": 5,
   "metadata": {},
   "outputs": [],
   "source": [
    "#nerdy_prudes.to_csv(PATH + \"npmd.csv\")\n",
    "#black_friday.to_csv(PATH + \"bf.csv\")\n",
    "#tgwdlm.to_csv(PATH + \"tgwdlm.csv\")"
   ]
  },
  {
   "cell_type": "code",
   "execution_count": 6,
   "metadata": {},
   "outputs": [],
   "source": [
    "#tgwdlm.loc[tgwdlm[\"parent\"] != \"root\"]\n",
    "# parent != root == reply to other comment"
   ]
  }
 ],
 "metadata": {
  "kernelspec": {
   "display_name": "tgwrlm",
   "language": "python",
   "name": "python3"
  },
  "language_info": {
   "codemirror_mode": {
    "name": "ipython",
    "version": 3
   },
   "file_extension": ".py",
   "mimetype": "text/x-python",
   "name": "python",
   "nbconvert_exporter": "python",
   "pygments_lexer": "ipython3",
   "version": "3.12.2"
  }
 },
 "nbformat": 4,
 "nbformat_minor": 2
}
